{
 "cells": [
  {
   "cell_type": "code",
   "execution_count": 1,
   "id": "018d7c22-afe0-4865-aeae-6390cc8eded2",
   "metadata": {},
   "outputs": [],
   "source": [
    "import pandas as pd\n",
    "import numpy as np\n",
    "import re\n",
    "import nltk\n",
    "from sklearn.model_selection import train_test_split\n",
    "from nltk.corpus import stopwords\n",
    "from nltk.tokenize import word_tokenize\n",
    "from nltk.stem import PorterStemmer\n",
    "from nltk.stem import WordNetLemmatizer\n",
    "from sklearn.feature_extraction.text import TfidfVectorizer\n",
    "import string\n",
    "from sklearn.ensemble import RandomForestClassifier\n",
    "from sklearn.naive_bayes import MultinomialNB\n",
    "from sklearn.metrics import classification_report , confusion_matrix , accuracy_score\n",
    "#nltk.download('stopwords')\n",
    "#nltk.download('punkt')\n",
    "#nltk.download('wordnet')\n",
    "#nltk.download('omw-1.4')"
   ]
  },
  {
   "cell_type": "code",
   "execution_count": 2,
   "id": "1fdf5d3a-bed9-4a17-bc5d-282e77581795",
   "metadata": {
    "jp-MarkdownHeadingCollapsed": true
   },
   "outputs": [],
   "source": [
    "data = pd.read_csv(\"fake reviews dataset.csv\" , usecols=[\"category\", \"rating\" ,\"label\", \"text_\"])"
   ]
  },
  {
   "cell_type": "code",
   "execution_count": 3,
   "id": "41c01bbe-d439-47a1-a223-44a0ee8c49f6",
   "metadata": {
    "tags": []
   },
   "outputs": [],
   "source": [
    "data.drop('rating', inplace=True, axis=1)\n",
    "data.drop('category', inplace=True, axis=1)"
   ]
  },
  {
   "cell_type": "code",
   "execution_count": 4,
   "id": "366a1aeb-e002-4c34-8485-d78eaeae4a89",
   "metadata": {},
   "outputs": [
    {
     "data": {
      "text/html": [
       "<div>\n",
       "<style scoped>\n",
       "    .dataframe tbody tr th:only-of-type {\n",
       "        vertical-align: middle;\n",
       "    }\n",
       "\n",
       "    .dataframe tbody tr th {\n",
       "        vertical-align: top;\n",
       "    }\n",
       "\n",
       "    .dataframe thead th {\n",
       "        text-align: right;\n",
       "    }\n",
       "</style>\n",
       "<table border=\"1\" class=\"dataframe\">\n",
       "  <thead>\n",
       "    <tr style=\"text-align: right;\">\n",
       "      <th></th>\n",
       "      <th>label</th>\n",
       "      <th>text_</th>\n",
       "    </tr>\n",
       "  </thead>\n",
       "  <tbody>\n",
       "    <tr>\n",
       "      <th>0</th>\n",
       "      <td>CG</td>\n",
       "      <td>Love this!  Well made, sturdy, and very comfor...</td>\n",
       "    </tr>\n",
       "    <tr>\n",
       "      <th>1</th>\n",
       "      <td>CG</td>\n",
       "      <td>love it, a great upgrade from the original.  I...</td>\n",
       "    </tr>\n",
       "    <tr>\n",
       "      <th>2</th>\n",
       "      <td>CG</td>\n",
       "      <td>This pillow saved my back. I love the look and...</td>\n",
       "    </tr>\n",
       "    <tr>\n",
       "      <th>3</th>\n",
       "      <td>CG</td>\n",
       "      <td>Missing information on how to use it, but it i...</td>\n",
       "    </tr>\n",
       "    <tr>\n",
       "      <th>4</th>\n",
       "      <td>CG</td>\n",
       "      <td>Very nice set. Good quality. We have had the s...</td>\n",
       "    </tr>\n",
       "  </tbody>\n",
       "</table>\n",
       "</div>"
      ],
      "text/plain": [
       "  label                                              text_\n",
       "0    CG  Love this!  Well made, sturdy, and very comfor...\n",
       "1    CG  love it, a great upgrade from the original.  I...\n",
       "2    CG  This pillow saved my back. I love the look and...\n",
       "3    CG  Missing information on how to use it, but it i...\n",
       "4    CG  Very nice set. Good quality. We have had the s..."
      ]
     },
     "execution_count": 4,
     "metadata": {},
     "output_type": "execute_result"
    }
   ],
   "source": [
    "data.head()"
   ]
  },
  {
   "cell_type": "code",
   "execution_count": 5,
   "id": "ee748ebb-3cb3-4476-bd17-9de0f4a70add",
   "metadata": {},
   "outputs": [],
   "source": [
    "data['label'].replace(['CG' , 'OR'] , [0 , 1] , inplace = True)\n",
    "labels = data['label']\n",
    "data.drop('label', inplace=True, axis=1)"
   ]
  },
  {
   "cell_type": "code",
   "execution_count": 6,
   "id": "beaabca8-1886-4f96-8875-c9d07a838a84",
   "metadata": {},
   "outputs": [],
   "source": [
    "train_X , test_X , train_Y , test_Y = train_test_split(data , labels , test_size=0.2)"
   ]
  },
  {
   "cell_type": "code",
   "execution_count": 7,
   "id": "9eed2c8e-b699-4a47-a163-4fa8f82e3b86",
   "metadata": {
    "tags": []
   },
   "outputs": [],
   "source": [
    "X_train, X_test = [] , [] \n",
    "stop_words = set(stopwords.words('english'))\n",
    "ps = PorterStemmer()\n",
    "lemmatizer = WordNetLemmatizer()\n",
    "          \n",
    "def remove_emojis(text):\n",
    "    emoji_pattern = re.compile(\"[\"\n",
    "                               u\"\\U0001F600-\\U0001F64F\"  # emoticons\n",
    "                               u\"\\U0001F300-\\U0001F5FF\"  # symbols & pictographs\n",
    "                               u\"\\U0001F680-\\U0001F6FF\"  # transport & map symbols\n",
    "                               u\"\\U0001F1E0-\\U0001F1FF\"  # flags (iOS)\n",
    "                               u\"\\U00002500-\\U00002BEF\"  # chinese char\n",
    "                               u\"\\U00002702-\\U000027B0\"\n",
    "                               u\"\\U00002702-\\U000027B0\"\n",
    "                               u\"\\U000024C2-\\U0001F251\"\n",
    "                               u\"\\U0001f926-\\U0001f937\"\n",
    "                               u\"\\U00010000-\\U0010ffff\"\n",
    "                               u\"\\u2640-\\u2642\"\n",
    "                               u\"\\u2600-\\u2B55\"\n",
    "                               u\"\\u200d\"\n",
    "                               u\"\\u23cf\"\n",
    "                               u\"\\u23e9\"\n",
    "                               u\"\\u231a\"\n",
    "                               u\"\\ufe0f\"  # dingbats\n",
    "                               u\"\\u3030\"\n",
    "                               \"]+\", flags=re.UNICODE)\n",
    "    return emoji_pattern.sub(r'', text)\n",
    "    \n",
    "def pre_process(text):\n",
    "    if isinstance(text , str) :\n",
    "        text = remove_emojis(text)\n",
    "        text = text.lower()\n",
    "        text = re.sub(r'\\d+' , \"\" , text)\n",
    "        text = re.sub(r\"http\\S+|www\\S+|https\\S+\" , \"\" , text , flags = re.MULTILINE)\n",
    "        text = text.translate(str.maketrans(\"\" , \"\" , string.punctuation))\n",
    "        text = re.sub(r'\\@\\w+|\\#\\w+' , \"\" , text)\n",
    "    \n",
    "        words = word_tokenize(text)\n",
    "        filtered_words = [word for word in words if word not in stop_words]\n",
    "                                 \n",
    "        stemmed_words = [ps.stem(word) for word in filtered_words]\n",
    "                                 \n",
    "        lemmatized_words = [lemmatizer.lemmatize(word , pos = 'a') for word in stemmed_words]\n",
    "        \n",
    "        return \" \".join(lemmatized_words)\n",
    "    \n",
    "for review in train_X['text_']:\n",
    "    text = pre_process(review)\n",
    "    X_train.append(text)\n",
    "\n",
    "for review in test_X['text_']:\n",
    "    text = pre_process(review)\n",
    "    X_test.append(text)"
   ]
  },
  {
   "cell_type": "code",
   "execution_count": 8,
   "id": "564302f7-124e-4ab4-879a-cffbf2b29c9b",
   "metadata": {
    "tags": []
   },
   "outputs": [],
   "source": [
    "Tfidf_vector = TfidfVectorizer(ngram_range = (2,2))\n",
    "traindata = Tfidf_vector.fit_transform(X_train)\n",
    "testdata = Tfidf_vector.transform(X_test)"
   ]
  },
  {
   "cell_type": "code",
   "execution_count": 9,
   "id": "5882ae79-622a-4974-88b4-ccba481291ba",
   "metadata": {},
   "outputs": [
    {
     "data": {
      "text/html": [
       "<style>#sk-container-id-1 {color: black;}#sk-container-id-1 pre{padding: 0;}#sk-container-id-1 div.sk-toggleable {background-color: white;}#sk-container-id-1 label.sk-toggleable__label {cursor: pointer;display: block;width: 100%;margin-bottom: 0;padding: 0.3em;box-sizing: border-box;text-align: center;}#sk-container-id-1 label.sk-toggleable__label-arrow:before {content: \"▸\";float: left;margin-right: 0.25em;color: #696969;}#sk-container-id-1 label.sk-toggleable__label-arrow:hover:before {color: black;}#sk-container-id-1 div.sk-estimator:hover label.sk-toggleable__label-arrow:before {color: black;}#sk-container-id-1 div.sk-toggleable__content {max-height: 0;max-width: 0;overflow: hidden;text-align: left;background-color: #f0f8ff;}#sk-container-id-1 div.sk-toggleable__content pre {margin: 0.2em;color: black;border-radius: 0.25em;background-color: #f0f8ff;}#sk-container-id-1 input.sk-toggleable__control:checked~div.sk-toggleable__content {max-height: 200px;max-width: 100%;overflow: auto;}#sk-container-id-1 input.sk-toggleable__control:checked~label.sk-toggleable__label-arrow:before {content: \"▾\";}#sk-container-id-1 div.sk-estimator input.sk-toggleable__control:checked~label.sk-toggleable__label {background-color: #d4ebff;}#sk-container-id-1 div.sk-label input.sk-toggleable__control:checked~label.sk-toggleable__label {background-color: #d4ebff;}#sk-container-id-1 input.sk-hidden--visually {border: 0;clip: rect(1px 1px 1px 1px);clip: rect(1px, 1px, 1px, 1px);height: 1px;margin: -1px;overflow: hidden;padding: 0;position: absolute;width: 1px;}#sk-container-id-1 div.sk-estimator {font-family: monospace;background-color: #f0f8ff;border: 1px dotted black;border-radius: 0.25em;box-sizing: border-box;margin-bottom: 0.5em;}#sk-container-id-1 div.sk-estimator:hover {background-color: #d4ebff;}#sk-container-id-1 div.sk-parallel-item::after {content: \"\";width: 100%;border-bottom: 1px solid gray;flex-grow: 1;}#sk-container-id-1 div.sk-label:hover label.sk-toggleable__label {background-color: #d4ebff;}#sk-container-id-1 div.sk-serial::before {content: \"\";position: absolute;border-left: 1px solid gray;box-sizing: border-box;top: 0;bottom: 0;left: 50%;z-index: 0;}#sk-container-id-1 div.sk-serial {display: flex;flex-direction: column;align-items: center;background-color: white;padding-right: 0.2em;padding-left: 0.2em;position: relative;}#sk-container-id-1 div.sk-item {position: relative;z-index: 1;}#sk-container-id-1 div.sk-parallel {display: flex;align-items: stretch;justify-content: center;background-color: white;position: relative;}#sk-container-id-1 div.sk-item::before, #sk-container-id-1 div.sk-parallel-item::before {content: \"\";position: absolute;border-left: 1px solid gray;box-sizing: border-box;top: 0;bottom: 0;left: 50%;z-index: -1;}#sk-container-id-1 div.sk-parallel-item {display: flex;flex-direction: column;z-index: 1;position: relative;background-color: white;}#sk-container-id-1 div.sk-parallel-item:first-child::after {align-self: flex-end;width: 50%;}#sk-container-id-1 div.sk-parallel-item:last-child::after {align-self: flex-start;width: 50%;}#sk-container-id-1 div.sk-parallel-item:only-child::after {width: 0;}#sk-container-id-1 div.sk-dashed-wrapped {border: 1px dashed gray;margin: 0 0.4em 0.5em 0.4em;box-sizing: border-box;padding-bottom: 0.4em;background-color: white;}#sk-container-id-1 div.sk-label label {font-family: monospace;font-weight: bold;display: inline-block;line-height: 1.2em;}#sk-container-id-1 div.sk-label-container {text-align: center;}#sk-container-id-1 div.sk-container {/* jupyter's `normalize.less` sets `[hidden] { display: none; }` but bootstrap.min.css set `[hidden] { display: none !important; }` so we also need the `!important` here to be able to override the default hidden behavior on the sphinx rendered scikit-learn.org. See: https://github.com/scikit-learn/scikit-learn/issues/21755 */display: inline-block !important;position: relative;}#sk-container-id-1 div.sk-text-repr-fallback {display: none;}</style><div id=\"sk-container-id-1\" class=\"sk-top-container\"><div class=\"sk-text-repr-fallback\"><pre>RandomForestClassifier(n_estimators=50, random_state=42)</pre><b>In a Jupyter environment, please rerun this cell to show the HTML representation or trust the notebook. <br />On GitHub, the HTML representation is unable to render, please try loading this page with nbviewer.org.</b></div><div class=\"sk-container\" hidden><div class=\"sk-item\"><div class=\"sk-estimator sk-toggleable\"><input class=\"sk-toggleable__control sk-hidden--visually\" id=\"sk-estimator-id-1\" type=\"checkbox\" checked><label for=\"sk-estimator-id-1\" class=\"sk-toggleable__label sk-toggleable__label-arrow\">RandomForestClassifier</label><div class=\"sk-toggleable__content\"><pre>RandomForestClassifier(n_estimators=50, random_state=42)</pre></div></div></div></div></div>"
      ],
      "text/plain": [
       "RandomForestClassifier(n_estimators=50, random_state=42)"
      ]
     },
     "execution_count": 9,
     "metadata": {},
     "output_type": "execute_result"
    }
   ],
   "source": [
    "random_forest = RandomForestClassifier(n_estimators=50, random_state=42)\n",
    "random_forest.fit(traindata, train_Y)"
   ]
  },
  {
   "cell_type": "code",
   "execution_count": null,
   "id": "9b97fffe-3cc9-455b-8262-67960026c511",
   "metadata": {
    "tags": []
   },
   "outputs": [],
   "source": [
    "#multiNB = MultinomialNB()\n",
    "#multiNB.fit(traindata , train_Y)"
   ]
  },
  {
   "cell_type": "code",
   "execution_count": 10,
   "id": "3d386025-49f8-4a39-8566-b7c581a37dc9",
   "metadata": {
    "tags": []
   },
   "outputs": [],
   "source": [
    "def evaluation(model) :\n",
    "    predictions = model.predict(testdata)\n",
    "    cm_matrix = confusion_matrix(test_Y , predictions)\n",
    "    score = accuracy_score(test_Y , predictions)\n",
    "    report = classification_report(test_Y , predictions)\n",
    "    print(\"--------------->CONFUSION MATRIX<----------------\")\n",
    "    print(cm_matrix)\n",
    "    print(\"\\n\\n\")\n",
    "    print(\"--------------->ACCURACY SCORE<----------------\")\n",
    "    print(score)\n",
    "    print(\"\\n\\n\")\n",
    "    print(\"--------------->CLASSIFICATION REPORT<----------------\")\n",
    "    print(report)\n",
    "    print(\"\\n\\n\")\n",
    "    return"
   ]
  },
  {
   "cell_type": "code",
   "execution_count": 11,
   "id": "6920d28a-d609-4596-9c89-18bc05bbf2fb",
   "metadata": {},
   "outputs": [],
   "source": [
    "def test() :\n",
    "    while True :\n",
    "        txt = input(\" ENTER YOUR REVIEW , EXIT FOR EXITING \")\n",
    "        txt = txt.lower()\n",
    "        if txt == \"exit\" :\n",
    "            break\n",
    "        text = []\n",
    "        text.append(pre_process(txt))\n",
    "        test = Tfidf_vector.transform(text)\n",
    "        prediction = random_forest.predict(test)\n",
    "        if prediction == 1 :\n",
    "            print(\"Review is REAL\")\n",
    "        else :\n",
    "            print(\"Review is FAKE\")\n",
    "            \n",
    "    return"
   ]
  },
  {
   "cell_type": "code",
   "execution_count": 12,
   "id": "c8075910-cb14-474c-a01f-8c728f4dcd60",
   "metadata": {},
   "outputs": [],
   "source": [
    "def main() :\n",
    "    choice = -1\n",
    "    while True :\n",
    "        choice = int(input(\" 1 : evaluation \\n 2 : test  \\n anything other : exit \\n\"))\n",
    "        if choice == 1 :\n",
    "            evaluation(random_forest)\n",
    "        elif choice == 2:\n",
    "            test()\n",
    "        else :\n",
    "            break\n",
    "            \n",
    "    return"
   ]
  },
  {
   "cell_type": "code",
   "execution_count": 13,
   "id": "a50655a6-6e98-47d7-b2a8-ff10d214b045",
   "metadata": {
    "tags": []
   },
   "outputs": [
    {
     "name": "stdout",
     "output_type": "stream",
     "text": [
      " 1 : evaluation \n",
      " 2 : test  \n",
      " anything other : exit \n",
      " 1\n"
     ]
    },
    {
     "name": "stdout",
     "output_type": "stream",
     "text": [
      "--------------->CONFUSION MATRIX<----------------\n",
      "[[3775  319]\n",
      " [1371 2622]]\n",
      "\n",
      "\n",
      "\n",
      "--------------->ACCURACY SCORE<----------------\n",
      "0.7910226289105973\n",
      "\n",
      "\n",
      "\n",
      "--------------->CLASSIFICATION REPORT<----------------\n",
      "              precision    recall  f1-score   support\n",
      "\n",
      "           0       0.73      0.92      0.82      4094\n",
      "           1       0.89      0.66      0.76      3993\n",
      "\n",
      "    accuracy                           0.79      8087\n",
      "   macro avg       0.81      0.79      0.79      8087\n",
      "weighted avg       0.81      0.79      0.79      8087\n",
      "\n",
      "\n",
      "\n",
      "\n"
     ]
    },
    {
     "name": "stdout",
     "output_type": "stream",
     "text": [
      " 1 : evaluation \n",
      " 2 : test  \n",
      " anything other : exit \n",
      " 4\n"
     ]
    }
   ],
   "source": [
    "main()"
   ]
  },
  {
   "cell_type": "code",
   "execution_count": null,
   "id": "54067cf9-b6c7-4365-ad77-d7464c86f639",
   "metadata": {},
   "outputs": [],
   "source": []
  }
 ],
 "metadata": {
  "kernelspec": {
   "display_name": "Python 3 (ipykernel)",
   "language": "python",
   "name": "python3"
  },
  "language_info": {
   "codemirror_mode": {
    "name": "ipython",
    "version": 3
   },
   "file_extension": ".py",
   "mimetype": "text/x-python",
   "name": "python",
   "nbconvert_exporter": "python",
   "pygments_lexer": "ipython3",
   "version": "3.11.3"
  }
 },
 "nbformat": 4,
 "nbformat_minor": 5
}
