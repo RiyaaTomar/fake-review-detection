{
 "cells": [
  {
   "cell_type": "code",
   "execution_count": null,
   "id": "018d7c22-afe0-4865-aeae-6390cc8eded2",
   "metadata": {},
   "outputs": [],
   "source": [
    "import pandas as pd\n",
    "import numpy as np\n",
    "import re\n",
    "import nltk\n",
    "from sklearn.model_selection import train_test_split\n",
    "from nltk.corpus import stopwords\n",
    "from nltk.tokenize import word_tokenize\n",
    "from nltk.stem import PorterStemmer\n",
    "from nltk.stem import WordNetLemmatizer\n",
    "from sklearn.feature_extraction.text import TfidfVectorizer\n",
    "import string\n",
    "from sklearn.ensemble import RandomForestClassifier\n",
    "from sklearn.naive_bayes import MultinomialNB\n",
    "from sklearn.metrics import classification_report , confusion_matrix , accuracy_score\n",
    "nltk.download('stopwords')\n",
    "nltk.download('punkt')\n",
    "nltk.download('wordnet')\n",
    "nltk.download('omw-1.4')"
   ]
  },
  {
   "cell_type": "code",
   "execution_count": null,
   "id": "1fdf5d3a-bed9-4a17-bc5d-282e77581795",
   "metadata": {
    "jp-MarkdownHeadingCollapsed": true
   },
   "outputs": [],
   "source": [
    "data = pd.read_csv(\"fake reviews dataset.csv\" , usecols=[\"category\", \"rating\" ,\"label\", \"text_\"])"
   ]
  },
  {
   "cell_type": "code",
   "execution_count": null,
   "id": "41c01bbe-d439-47a1-a223-44a0ee8c49f6",
   "metadata": {
    "tags": []
   },
   "outputs": [],
   "source": [
    "data.drop('rating', inplace=True, axis=1)\n",
    "data.drop('category', inplace=True, axis=1)"
   ]
  },
  {
   "cell_type": "code",
   "execution_count": null,
   "id": "366a1aeb-e002-4c34-8485-d78eaeae4a89",
   "metadata": {},
   "outputs": [],
   "source": [
    "data.head()"
   ]
  },
  {
   "cell_type": "code",
   "execution_count": null,
   "id": "ee748ebb-3cb3-4476-bd17-9de0f4a70add",
   "metadata": {},
   "outputs": [],
   "source": [
    "data['label'].replace(['CG' , 'OR'] , [0 , 1] , inplace = True)\n",
    "labels = data['label']\n",
    "data.drop('label', inplace=True, axis=1)"
   ]
  },
  {
   "cell_type": "code",
   "execution_count": null,
   "id": "beaabca8-1886-4f96-8875-c9d07a838a84",
   "metadata": {},
   "outputs": [],
   "source": [
    "train_X , test_X , train_Y , test_Y = train_test_split(data , labels , test_size=0.2)"
   ]
  },
  {
   "cell_type": "code",
   "execution_count": null,
   "id": "9eed2c8e-b699-4a47-a163-4fa8f82e3b86",
   "metadata": {
    "tags": []
   },
   "outputs": [],
   "source": [
    "X_train, X_test = [] , [] \n",
    "stop_words = set(stopwords.words('english'))\n",
    "ps = PorterStemmer()\n",
    "lemmatizer = WordNetLemmatizer()\n",
    "          \n",
    "def remove_emojis(text):\n",
    "    emoji_pattern = re.compile(\"[\"\n",
    "                               u\"\\U0001F600-\\U0001F64F\"  # emoticons\n",
    "                               u\"\\U0001F300-\\U0001F5FF\"  # symbols & pictographs\n",
    "                               u\"\\U0001F680-\\U0001F6FF\"  # transport & map symbols\n",
    "                               u\"\\U0001F1E0-\\U0001F1FF\"  # flags (iOS)\n",
    "                               u\"\\U00002500-\\U00002BEF\"  # chinese char\n",
    "                               u\"\\U00002702-\\U000027B0\"\n",
    "                               u\"\\U00002702-\\U000027B0\"\n",
    "                               u\"\\U000024C2-\\U0001F251\"\n",
    "                               u\"\\U0001f926-\\U0001f937\"\n",
    "                               u\"\\U00010000-\\U0010ffff\"\n",
    "                               u\"\\u2640-\\u2642\"\n",
    "                               u\"\\u2600-\\u2B55\"\n",
    "                               u\"\\u200d\"\n",
    "                               u\"\\u23cf\"\n",
    "                               u\"\\u23e9\"\n",
    "                               u\"\\u231a\"\n",
    "                               u\"\\ufe0f\"  # dingbats\n",
    "                               u\"\\u3030\"\n",
    "                               \"]+\", flags=re.UNICODE)\n",
    "    return emoji_pattern.sub(r'', text)\n",
    "    \n",
    "def pre_process(text):\n",
    "    if isinstance(text , str) :\n",
    "        text = remove_emojis(text)\n",
    "        text = text.lower()\n",
    "        text = re.sub(r'\\d+' , \"\" , text)\n",
    "        text = re.sub(r\"http\\S+|www\\S+|https\\S+\" , \"\" , text , flags = re.MULTILINE)\n",
    "        text = text.translate(str.maketrans(\"\" , \"\" , string.punctuation))\n",
    "        text = re.sub(r'\\@\\w+|\\#\\w+' , \"\" , text)\n",
    "    \n",
    "        words = word_tokenize(text)\n",
    "        filtered_words = [word for word in words if word not in stop_words]\n",
    "                                 \n",
    "        stemmed_words = [ps.stem(word) for word in filtered_words]\n",
    "                                 \n",
    "        lemmatized_words = [lemmatizer.lemmatize(word , pos = 'a') for word in stemmed_words]\n",
    "        \n",
    "        return \" \".join(lemmatized_words)\n",
    "    \n",
    "for review in train_X['text_']:\n",
    "    text = pre_process(review)\n",
    "    X_train.append(text)\n",
    "\n",
    "for review in test_X['text_']:\n",
    "    text = pre_process(review)\n",
    "    X_test.append(text)"
   ]
  },
  {
   "cell_type": "code",
   "execution_count": null,
   "id": "564302f7-124e-4ab4-879a-cffbf2b29c9b",
   "metadata": {
    "tags": []
   },
   "outputs": [],
   "source": [
    "Tfidf_vector = TfidfVectorizer(ngram_range = (2,2))\n",
    "traindata = Tfidf_vector.fit_transform(X_train)\n",
    "testdata = Tfidf_vector.transform(X_test)"
   ]
  },
  {
   "cell_type": "code",
   "execution_count": null,
   "id": "5882ae79-622a-4974-88b4-ccba481291ba",
   "metadata": {},
   "outputs": [],
   "source": [
    "random_forest = RandomForestClassifier(n_estimators=100, random_state=42)\n",
    "random_forest.fit(traindata, train_Y)"
   ]
  },
  {
   "cell_type": "code",
   "execution_count": null,
   "id": "9b97fffe-3cc9-455b-8262-67960026c511",
   "metadata": {
    "tags": []
   },
   "outputs": [],
   "source": [
    "#multiNB = MultinomialNB()\n",
    "#multiNB.fit(traindata , train_Y)"
   ]
  },
  {
   "cell_type": "code",
   "execution_count": null,
   "id": "3d386025-49f8-4a39-8566-b7c581a37dc9",
   "metadata": {
    "tags": []
   },
   "outputs": [],
   "source": [
    "def evaluation(model) :\n",
    "    predictions = model.predict(testdata)\n",
    "    cm_matrix = confusion_matrix(test_Y , predictions)\n",
    "    score = accuracy_score(test_Y , predictions)\n",
    "    report = classification_report(test_Y , predictions)\n",
    "    print(\"--------------->CONFUSION MATRIX<----------------\")\n",
    "    print(cm_matrix)\n",
    "    print(\"\\n\\n\")\n",
    "    print(\"--------------->ACCURACY SCORE<----------------\")\n",
    "    print(score)\n",
    "    print(\"\\n\\n\")\n",
    "    print(\"--------------->CLASSIFICATION REPORT<----------------\")\n",
    "    print(report)\n",
    "    print(\"\\n\\n\")\n",
    "    return"
   ]
  },
  {
   "cell_type": "code",
   "execution_count": null,
   "id": "6920d28a-d609-4596-9c89-18bc05bbf2fb",
   "metadata": {},
   "outputs": [],
   "source": [
    "def test() :\n",
    "    while True :\n",
    "        txt = input(\" ENTER YOUR REVIEW , EXIT FOR EXITING \")\n",
    "        txt = txt.lower()\n",
    "        if txt == \"exit\" :\n",
    "            break\n",
    "        text = []\n",
    "        text.append(pre_process(txt))\n",
    "        test = Tfidf_vector.transform(text)\n",
    "        prediction = random_forest.predict(test)\n",
    "        if prediction == 1 :\n",
    "            print(\"Review is REAL\")\n",
    "        else :\n",
    "            print(\"Review is FAKE\")\n",
    "            \n",
    "    return"
   ]
  },
  {
   "cell_type": "code",
   "execution_count": null,
   "id": "c8075910-cb14-474c-a01f-8c728f4dcd60",
   "metadata": {},
   "outputs": [],
   "source": [
    "def main() :\n",
    "    choice = -1\n",
    "    while True :\n",
    "        choice = int(input(\" 1 : evaluation \\n 2 : test  \\n anything other : exit \\n\"))\n",
    "        if choice == 1 :\n",
    "            evaluation(random_forest)\n",
    "        elif choice == 2:\n",
    "            test()\n",
    "        else :\n",
    "            break\n",
    "            \n",
    "    return"
   ]
  },
  {
   "cell_type": "code",
   "execution_count": 34,
   "id": "48b7d7dd",
   "metadata": {},
   "outputs": [
    {
     "name": "stdout",
     "output_type": "stream",
     "text": [
      "--------------->CONFUSION MATRIX<----------------\n",
      "[[3554  465]\n",
      " [ 801 3267]]\n",
      "\n",
      "\n",
      "\n",
      "--------------->ACCURACY SCORE<----------------\n",
      "0.8434524545566959\n",
      "\n",
      "\n",
      "\n",
      "--------------->CLASSIFICATION REPORT<----------------\n",
      "              precision    recall  f1-score   support\n",
      "\n",
      "           0       0.82      0.88      0.85      4019\n",
      "           1       0.88      0.80      0.84      4068\n",
      "\n",
      "    accuracy                           0.84      8087\n",
      "   macro avg       0.85      0.84      0.84      8087\n",
      "weighted avg       0.85      0.84      0.84      8087\n",
      "\n",
      "\n",
      "\n",
      "\n"
     ]
    }
   ],
   "source": [
    "main()"
   ]
  }
 ],
 "metadata": {
  "kernelspec": {
   "display_name": "Python 3 (ipykernel)",
   "language": "python",
   "name": "python3"
  },
  "language_info": {
   "codemirror_mode": {
    "name": "ipython",
    "version": 3
   },
   "file_extension": ".py",
   "mimetype": "text/x-python",
   "name": "python",
   "nbconvert_exporter": "python",
   "pygments_lexer": "ipython3",
   "version": "3.11.3"
  }
 },
 "nbformat": 4,
 "nbformat_minor": 5
}
